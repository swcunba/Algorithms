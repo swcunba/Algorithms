{
 "cells": [
  {
   "cell_type": "code",
   "execution_count": 27,
   "metadata": {},
   "outputs": [
    {
     "name": "stdout",
     "output_type": "stream",
     "text": [
      "999\n",
      "144\n"
     ]
    }
   ],
   "source": [
    "N = int(input())\n",
    "def Hansu_Classifier(n):\n",
    "    cnt = 0\n",
    "    for i in range(1, n+1):\n",
    "        a = i % 10 #일의 자릿수\n",
    "        b = int(i/10)%10#십의 자릿수\n",
    "        c = int(i/100)#백의 자릿수\n",
    "        if c == 0:\n",
    "            cnt += 1\n",
    "        if (a - b) == (b - c) and c != 0:\n",
    "            cnt += 1\n",
    "            #print(a, b, c)\n",
    "    return cnt\n",
    "result = Hansu_Classifier(N)\n",
    "print(result)"
   ]
  },
  {
   "cell_type": "code",
   "execution_count": null,
   "metadata": {},
   "outputs": [],
   "source": []
  }
 ],
 "metadata": {
  "kernelspec": {
   "display_name": "Python 3",
   "language": "python",
   "name": "python3"
  },
  "language_info": {
   "codemirror_mode": {
    "name": "ipython",
    "version": 3
   },
   "file_extension": ".py",
   "mimetype": "text/x-python",
   "name": "python",
   "nbconvert_exporter": "python",
   "pygments_lexer": "ipython3",
   "version": "3.7.4"
  }
 },
 "nbformat": 4,
 "nbformat_minor": 2
}
