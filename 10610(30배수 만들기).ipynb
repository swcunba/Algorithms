{
 "cells": [
  {
   "cell_type": "code",
   "execution_count": 1,
   "metadata": {},
   "outputs": [
    {
     "name": "stdout",
     "output_type": "stream",
     "text": [
      "207\n",
      "720\n"
     ]
    }
   ],
   "source": [
    "N = input(str())\n",
    "num = []\n",
    "for i in range(0, len(N)):\n",
    "    num.append(int(N[i]))\n",
    "    \n",
    "#각 자릿수의 합이 3의 배수이면 30의 배수 나온다는 규칙 이용\n",
    "#2931같은 예외 존재\n",
    "#30 = 3*10이므로 항상 끝자리가 0 나머지 숫자의 순서는 무관해보임\n",
    "#내림차순 정렬하면 0이 자연스럽게 끝으로 갈 것\n",
    "a = 0\n",
    "for i in range(0, len(num)):\n",
    "    a += num[i]\n",
    "    \n",
    "if a%3 == 0:\n",
    "    if 0 in num:\n",
    "        num.sort(reverse=True)\n",
    "        num = map(str, num)\n",
    "        result = \"\".join(num)\n",
    "        print(result)\n",
    "    else:\n",
    "        print(-1)\n",
    "            \n",
    "else:\n",
    "    print(-1)"
   ]
  },
  {
   "cell_type": "code",
   "execution_count": null,
   "metadata": {},
   "outputs": [],
   "source": []
  }
 ],
 "metadata": {
  "kernelspec": {
   "display_name": "Python 3",
   "language": "python",
   "name": "python3"
  },
  "language_info": {
   "codemirror_mode": {
    "name": "ipython",
    "version": 3
   },
   "file_extension": ".py",
   "mimetype": "text/x-python",
   "name": "python",
   "nbconvert_exporter": "python",
   "pygments_lexer": "ipython3",
   "version": "3.7.4"
  }
 },
 "nbformat": 4,
 "nbformat_minor": 2
}
