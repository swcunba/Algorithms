{
 "cells": [
  {
   "cell_type": "code",
   "execution_count": 4,
   "metadata": {},
   "outputs": [
    {
     "name": "stdout",
     "output_type": "stream",
     "text": [
      "1\n",
      "305 794\n",
      "1\n"
     ]
    }
   ],
   "source": [
    "t = int(input())\n",
    "for i in range(0, t):\n",
    "    a, b = map(str, input().split())\n",
    "    a_list = []\n",
    "    b_list = []\n",
    "    result_list = []\n",
    "    for j in range(0, len(a)):\n",
    "        a_list.append(a[j])\n",
    "        \n",
    "    for k in range(0, len(b)):\n",
    "        b_list.append(b[k])##문자열로 각 자릿수 리스트에 저장\n",
    "    a_list.reverse()\n",
    "    b_list.reverse()##reversed number 형성\n",
    "    a = \"\".join(a_list)\n",
    "    b = \"\".join(b_list)\n",
    "    a = int(a)\n",
    "    b = int(b)\n",
    "    result = a + b\n",
    "    result = str(result)\n",
    "    for l in range(0, len(result)):\n",
    "        result_list.append(result[l])\n",
    "    result_list.reverse()\n",
    "    result = \"\".join(result_list)\n",
    "    result = int(result)\n",
    "    print(result)"
   ]
  },
  {
   "cell_type": "code",
   "execution_count": null,
   "metadata": {},
   "outputs": [],
   "source": []
  }
 ],
 "metadata": {
  "kernelspec": {
   "display_name": "Python 3",
   "language": "python",
   "name": "python3"
  },
  "language_info": {
   "codemirror_mode": {
    "name": "ipython",
    "version": 3
   },
   "file_extension": ".py",
   "mimetype": "text/x-python",
   "name": "python",
   "nbconvert_exporter": "python",
   "pygments_lexer": "ipython3",
   "version": "3.7.4"
  }
 },
 "nbformat": 4,
 "nbformat_minor": 2
}
