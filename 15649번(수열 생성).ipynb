{
 "cells": [
  {
   "cell_type": "code",
   "execution_count": null,
   "metadata": {},
   "outputs": [],
   "source": [
    "N, M = map(int, input().split())"
   ]
  },
  {
   "cell_type": "code",
   "execution_count": null,
   "metadata": {},
   "outputs": [],
   "source": [
    "#깊이 우선 탐색(DFS): 자기 자신을 호출하는 순환 알고리즘 형태. 방문한 노드를 표시해주어야 함\n",
    "visited = [False]*N # 탐사 여부 확인을 위한 변수(1부터 N까지니까 N번), 방문 시 True로\n",
    "result = [] #출력 내용\n",
    "\n",
    "def array_maker(depth, N, M):\n",
    "    if depth == M: #수열의 원소 개수 M개이므로 M개 채워지면 반복 중단\n",
    "        print(' '.join(map(str, result)))#'과 ' 사이에 띄어쓰기 필수(없으면 에러남)\n",
    "        return\n",
    "    for i in range(len(visited)): #탐사횟수 N번\n",
    "        if not visited[i]:#visited[i]가 없다면\n",
    "            visited[i] = True #방문하면 True로 전환(False는 0, True는 1)\n",
    "            result.append(i+1)#숫자를 리스트에 넣고\n",
    "            array_maker(depth+1, N, M)#depth를 1씩 늘려가며 재귀함수 호출\n",
    "            visited[i] = False #초기화를 위해 False로 돌리고 pop으로 내용도 지움(숫자 계속 써야하므로)\n",
    "            result.pop()#탐사 내용 제거(pop은 리스트에서 해당 요소를 끄집어 내는 함수)\n",
    "            \n",
    "array_maker(0, N, M)"
   ]
  },
  {
   "cell_type": "code",
   "execution_count": null,
   "metadata": {},
   "outputs": [],
   "source": [
    "#다른 방법(내부 함수 itertools의 permutaions이용)\n",
    "from itertools import permutations\n",
    "N, M = map(int, input().split())\n",
    "P = permutations(range(1, N+1), M)  # iter(tuple)\n",
    "for i in P:\n",
    "    print(' '.join(map(str, i)))  # tuple -> str"
   ]
  }
 ],
 "metadata": {
  "kernelspec": {
   "display_name": "Python 3",
   "language": "python",
   "name": "python3"
  },
  "language_info": {
   "codemirror_mode": {
    "name": "ipython",
    "version": 3
   },
   "file_extension": ".py",
   "mimetype": "text/x-python",
   "name": "python",
   "nbconvert_exporter": "python",
   "pygments_lexer": "ipython3",
   "version": "3.7.4"
  }
 },
 "nbformat": 4,
 "nbformat_minor": 2
}
